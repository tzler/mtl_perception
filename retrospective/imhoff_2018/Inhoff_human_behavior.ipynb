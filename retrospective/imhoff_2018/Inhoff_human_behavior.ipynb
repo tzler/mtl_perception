{
 "cells": [
  {
   "cell_type": "code",
   "execution_count": 1,
   "metadata": {},
   "outputs": [
    {
     "name": "stdout",
     "output_type": "stream",
     "text": [
      "WARNING:tensorflow:From /Users/biota/opt/anaconda3/envs/tf/lib/python3.7/site-packages/tensorflow_core/python/compat/v2_compat.py:65: disable_resource_variables (from tensorflow.python.ops.variable_scope) is deprecated and will be removed in a future version.\n",
      "Instructions for updating:\n",
      "non-resource variables are not supported in the long term\n"
     ]
    }
   ],
   "source": [
    "import warnings; warnings.simplefilter('ignore')\n",
    "import imp, os, pickle, pandas, numpy as np\n",
    "import matplotlib.pyplot as plt\n",
    "from PIL import Image\n",
    "import tensorflow.compat.v1 as tf\n",
    "tf.disable_v2_behavior()\n",
    "from scipy.misc import imresize\n",
    "%matplotlib inline"
   ]
  },
  {
   "cell_type": "markdown",
   "metadata": {},
   "source": [
    "### NOTES\n",
    "- t.Subject != the subject number: the file-name subject 73 is the within-file subject 70  "
   ]
  },
  {
   "cell_type": "code",
   "execution_count": 2,
   "metadata": {},
   "outputs": [],
   "source": [
    "# thank you for sending this! \n",
    "data_directory = 'data_for_tyler'\n",
    "# loading all file names \n",
    "data_files = [i for i in os.listdir(data_directory) if 'xls' in i] "
   ]
  },
  {
   "cell_type": "code",
   "execution_count": 3,
   "metadata": {},
   "outputs": [],
   "source": [
    "# difficulty of each trial from README\n",
    "difficulty_key = {3:'easy', 4:'medium', 5:'difficult'}\n",
    "# subject names from README\n",
    "name_key = {1:'IR', 73:'AN', 72:'SD'}"
   ]
  },
  {
   "cell_type": "code",
   "execution_count": 184,
   "metadata": {
    "scrolled": true
   },
   "outputs": [],
   "source": [
    "# initialize dataframe \n",
    "df = pandas.DataFrame({})\n",
    "\n",
    "# iterate over all files \n",
    "for i_file in data_files: \n",
    "    \n",
    "    # extract subject id from filename\n",
    "    subject_number = int(i_file[4:-12]) \n",
    "    # convert id to name in paper\n",
    "    subject_name = [name_key[subject_number] if subject_number in name_key else 'control'][0]    \n",
    "    # load excel file\n",
    "    xls = pandas.read_excel(os.path.join(data_directory, i_file))\n",
    "    # extract oddity files with README info \n",
    "    trials = xls[(xls.Attribute1 == 'o') | (xls.Attribute1 == 'm') | (xls.Attribute1 == 'd')]\n",
    "\n",
    "    for idx in range(len(trials)): \n",
    " \n",
    "        # select single trial\n",
    "        t = trials.iloc[idx]\n",
    "        if t.Attribute1 == 'o': \n",
    "            # index of next trial through last\n",
    "            next_idx = min(idx+1, len(trials)-1)\n",
    "            # name difficulty \n",
    "            trial_difficulty = difficulty_key[t.Attribute2]\n",
    "            # check this and the next trial to determine accuracy \n",
    "            i_correct = t.correct == t['Slide1.RESP'] or t.correct == trials.iloc[next_idx]['TextDisplay51.RESP']\n",
    "\n",
    "            # collect relevant trial-level observations\n",
    "            trial_data  = pandas.Series(\n",
    "                {'image1': t.facepic1, \n",
    "                 'image2': t.facepic2,\n",
    "                 'image3': t.facepic3, \n",
    "                 'correct_responses': t.correct, \n",
    "                 'subject': subject_number, # t.Subject\n",
    "                 'difficulty': trial_difficulty, \n",
    "                 'name': subject_name,\n",
    "                 'correct': i_correct })\n",
    "            \n",
    "            # store trial-level data\n",
    "            df = df.append(trial_data, ignore_index=True) "
   ]
  },
  {
   "cell_type": "code",
   "execution_count": 185,
   "metadata": {},
   "outputs": [
    {
     "data": {
      "image/png": "[encoded data removed]",
      "text/plain": [
       "<Figure size 936x288 with 3 Axes>"
      ]
     },
     "metadata": {
      "needs_background": "light"
     },
     "output_type": "display_data"
    }
   ],
   "source": [
    "patient_names = ['AN', 'SD', 'IR', 'control']\n",
    "# colors to match the figure 3 in paper \n",
    "colors = {'AN': '#A52931', \"SD\": '#EBA848', 'IR': '#67AB44', 'control':'#475681'}\n",
    "\n",
    "plt.figure(figsize=[13, 4])\n",
    "i_plot=1\n",
    "\n",
    "for i_task in list( difficulty_key.values()  ) : \n",
    "    \n",
    "    plt.subplot(1, 3, i_plot) ; i_plot+=1\n",
    "    location = 0 \n",
    "    for i in patient_names: \n",
    "        location += 1 \n",
    "        plt.bar(location, df[(df.difficulty==i_task) * (df.name==i)].mean().correct, \n",
    "                color=colors[i], edgecolor='black')\n",
    "    plt.xticks(range(1, len(patient_names)+1), patient_names)\n",
    "    plt.title(i_task)\n",
    "    plt.ylim(.05, 1.05)\n",
    "    plt.xlim(.3, 4.7)\n",
    "    plt.hlines([1/3, 1/3], xmin= 0, xmax = 5, linestyle='--', color='black', alpha=.1)\n",
    "plt.suptitle('oddity trials', y=1.05, fontsize=15) \n",
    "plt.subplot(131); plt.ylabel('proportion correct'); "
   ]
  },
  {
   "cell_type": "code",
   "execution_count": 186,
   "metadata": {},
   "outputs": [],
   "source": [
    "unique_images = np.array([df.image3.unique(),\n",
    "                          df.image1.unique(), \n",
    "                          df.image2.unique(), \n",
    "                          ]).flatten() "
   ]
  },
  {
   "cell_type": "code",
   "execution_count": 187,
   "metadata": {},
   "outputs": [],
   "source": [
    "image_directory = '/Users/biota/work/mtl_perception/retrospective/imhoff_2018/oddity_memory_trials'"
   ]
  },
  {
   "cell_type": "code",
   "execution_count": 189,
   "metadata": {},
   "outputs": [],
   "source": [
    "each_image, missing = {}, []  \n",
    "\n",
    "for i_image in unique_images: \n",
    "    \n",
    "    img_path = os.path.join(image_directory, i_image[:-3] + 'BMP')\n",
    "\n",
    "    if os.path.exists( img_path ) : \n",
    "        tmp_image = Image.open(img_path)\n",
    "        each_image[i_image] = tmp_image.copy() \n",
    "        tmp_image.close() \n",
    "    else: \n",
    "        missing.append( i_image )"
   ]
  },
  {
   "cell_type": "code",
   "execution_count": 211,
   "metadata": {},
   "outputs": [],
   "source": [
    "df = df[ np.array([i not in missing for i in df.image1]) * \n",
    "         np.array([i not in missing for i in df.image2]) * \n",
    "         np.array([i not in missing for i in df.image3]) ] "
   ]
  },
  {
   "cell_type": "code",
   "execution_count": 212,
   "metadata": {},
   "outputs": [],
   "source": [
    "if 0: \n",
    "    def load_model(path_to_model):\n",
    "        \"\"\"return model and session\"\"\"\n",
    "        session = tf.Session()\n",
    "        vgg16 = imp.load_source('vgg16', os.path.join(path_to_model, 'vgg16.py'))\n",
    "        imgs = tf.placeholder(tf.float32, [None, 224, 224, 3])\n",
    "        vgg = vgg16.vgg16(imgs, os.path.join(path_to_model, 'vgg16_weights.npz'), session)\n",
    "        return vgg, session\n",
    "\n",
    "    # set base directory all analyses are contained within\n",
    "    base_directory = os.path.abspath('..')\n",
    "\n",
    "    # set path to model\n",
    "    path_to_model = os.path.join(base_directory, 'model')\n",
    "\n",
    "    # define model\n",
    "    model, session = load_model(path_to_model)\n",
    "\n",
    "    imgs = {i: imresize(each_image[i], (224, 224, 3)) for i in each_image}\n",
    "\n",
    "    model_responses = {}\n",
    "\n",
    "    for i in imgs:\n",
    "        print( i )\n",
    "        model_responses[i] = session.run(model.conv5_1, feed_dict={model.imgs: np.expand_dims(imgs[i], 0)}).flatten()"
   ]
  },
  {
   "cell_type": "code",
   "execution_count": 215,
   "metadata": {
    "scrolled": false
   },
   "outputs": [],
   "source": [
    "correct = [] \n",
    "distance = [] \n",
    "\n",
    "for i_trial in range(len(df)):    \n",
    "\n",
    "    t = df.iloc[i_trial]\n",
    "    \n",
    "    i_numbers = [t['image%s'%i][-7:-4] for i in [1,2,3]]\n",
    "    # get ground truth \n",
    "    i_correct_response = np.argmax(i_numbers)\n",
    "    # extract responses to these stimuli\n",
    "    i_responses = [model_responses[t['image%s'%i] ] for i in [1,2,3]]\n",
    "    # generate covariance matrix for trial\n",
    "    i_covariance = np.corrcoef(i_responses)\n",
    "    # identify item with lowest off diagonal mean correlation\n",
    "    model_decision = i_covariance.mean(0).argmin()\n",
    "    # sort covariance matrix -- so we can ignore diagonal \n",
    "    i_covariance.sort()\n",
    "    # estimate mean off diagonal \n",
    "    i_nearest = i_covariance[:,:-1].mean(1)\n",
    "    # determine if farthest is the oddity\n",
    "    correct.append(model_decision == i_correct_response)\n",
    "    # store distance between oddity and typicals\n",
    "    distance.append(i_nearest[ model_decision ])"
   ]
  },
  {
   "cell_type": "code",
   "execution_count": 245,
   "metadata": {},
   "outputs": [],
   "source": [
    "df['model_performance'] = correct \n",
    "df['model_distance'] = distance "
   ]
  },
  {
   "cell_type": "code",
   "execution_count": 250,
   "metadata": {},
   "outputs": [
    {
     "data": {
      "text/html": [
       "<div>\n",
       "<style scoped>\n",
       "    .dataframe tbody tr th:only-of-type {\n",
       "        vertical-align: middle;\n",
       "    }\n",
       "\n",
       "    .dataframe tbody tr th {\n",
       "        vertical-align: top;\n",
       "    }\n",
       "\n",
       "    .dataframe thead th {\n",
       "        text-align: right;\n",
       "    }\n",
       "</style>\n",
       "<table border=\"1\" class=\"dataframe\">\n",
       "  <thead>\n",
       "    <tr style=\"text-align: right;\">\n",
       "      <th></th>\n",
       "      <th></th>\n",
       "      <th>correct</th>\n",
       "      <th>correct_responses</th>\n",
       "      <th>subject</th>\n",
       "      <th>model_performance</th>\n",
       "      <th>model_distance</th>\n",
       "    </tr>\n",
       "    <tr>\n",
       "      <th>difficulty</th>\n",
       "      <th>name</th>\n",
       "      <th></th>\n",
       "      <th></th>\n",
       "      <th></th>\n",
       "      <th></th>\n",
       "      <th></th>\n",
       "    </tr>\n",
       "  </thead>\n",
       "  <tbody>\n",
       "    <tr>\n",
       "      <th rowspan=\"4\" valign=\"top\">difficult</th>\n",
       "      <th>AN</th>\n",
       "      <td>0.652174</td>\n",
       "      <td>2.043478</td>\n",
       "      <td>73.000000</td>\n",
       "      <td>True</td>\n",
       "      <td>0.962257</td>\n",
       "    </tr>\n",
       "    <tr>\n",
       "      <th>IR</th>\n",
       "      <td>0.314286</td>\n",
       "      <td>1.942857</td>\n",
       "      <td>1.000000</td>\n",
       "      <td>True</td>\n",
       "      <td>0.961015</td>\n",
       "    </tr>\n",
       "    <tr>\n",
       "      <th>SD</th>\n",
       "      <td>0.391304</td>\n",
       "      <td>2.043478</td>\n",
       "      <td>72.000000</td>\n",
       "      <td>True</td>\n",
       "      <td>0.962257</td>\n",
       "    </tr>\n",
       "    <tr>\n",
       "      <th>control</th>\n",
       "      <td>0.550586</td>\n",
       "      <td>1.944622</td>\n",
       "      <td>46.577210</td>\n",
       "      <td>True</td>\n",
       "      <td>0.961016</td>\n",
       "    </tr>\n",
       "    <tr>\n",
       "      <th rowspan=\"4\" valign=\"top\">easy</th>\n",
       "      <th>AN</th>\n",
       "      <td>0.761905</td>\n",
       "      <td>2.047619</td>\n",
       "      <td>73.000000</td>\n",
       "      <td>True</td>\n",
       "      <td>0.937615</td>\n",
       "    </tr>\n",
       "    <tr>\n",
       "      <th>IR</th>\n",
       "      <td>0.454545</td>\n",
       "      <td>1.969697</td>\n",
       "      <td>1.000000</td>\n",
       "      <td>True</td>\n",
       "      <td>0.938143</td>\n",
       "    </tr>\n",
       "    <tr>\n",
       "      <th>SD</th>\n",
       "      <td>0.619048</td>\n",
       "      <td>2.047619</td>\n",
       "      <td>72.000000</td>\n",
       "      <td>True</td>\n",
       "      <td>0.937615</td>\n",
       "    </tr>\n",
       "    <tr>\n",
       "      <th>control</th>\n",
       "      <td>0.744633</td>\n",
       "      <td>1.970621</td>\n",
       "      <td>46.589831</td>\n",
       "      <td>True</td>\n",
       "      <td>0.938225</td>\n",
       "    </tr>\n",
       "    <tr>\n",
       "      <th rowspan=\"4\" valign=\"top\">medium</th>\n",
       "      <th>AN</th>\n",
       "      <td>0.666667</td>\n",
       "      <td>1.833333</td>\n",
       "      <td>73.000000</td>\n",
       "      <td>True</td>\n",
       "      <td>0.957578</td>\n",
       "    </tr>\n",
       "    <tr>\n",
       "      <th>IR</th>\n",
       "      <td>0.472222</td>\n",
       "      <td>2.000000</td>\n",
       "      <td>1.000000</td>\n",
       "      <td>True</td>\n",
       "      <td>0.954485</td>\n",
       "    </tr>\n",
       "    <tr>\n",
       "      <th>SD</th>\n",
       "      <td>0.708333</td>\n",
       "      <td>1.833333</td>\n",
       "      <td>72.000000</td>\n",
       "      <td>True</td>\n",
       "      <td>0.957578</td>\n",
       "    </tr>\n",
       "    <tr>\n",
       "      <th>control</th>\n",
       "      <td>0.630435</td>\n",
       "      <td>1.997930</td>\n",
       "      <td>46.571429</td>\n",
       "      <td>True</td>\n",
       "      <td>0.954530</td>\n",
       "    </tr>\n",
       "  </tbody>\n",
       "</table>\n",
       "</div>"
      ],
      "text/plain": [
       "                     correct  correct_responses    subject  model_performance  \\\n",
       "difficulty name                                                                 \n",
       "difficult  AN       0.652174           2.043478  73.000000               True   \n",
       "           IR       0.314286           1.942857   1.000000               True   \n",
       "           SD       0.391304           2.043478  72.000000               True   \n",
       "           control  0.550586           1.944622  46.577210               True   \n",
       "easy       AN       0.761905           2.047619  73.000000               True   \n",
       "           IR       0.454545           1.969697   1.000000               True   \n",
       "           SD       0.619048           2.047619  72.000000               True   \n",
       "           control  0.744633           1.970621  46.589831               True   \n",
       "medium     AN       0.666667           1.833333  73.000000               True   \n",
       "           IR       0.472222           2.000000   1.000000               True   \n",
       "           SD       0.708333           1.833333  72.000000               True   \n",
       "           control  0.630435           1.997930  46.571429               True   \n",
       "\n",
       "                    model_distance  \n",
       "difficulty name                     \n",
       "difficult  AN             0.962257  \n",
       "           IR             0.961015  \n",
       "           SD             0.962257  \n",
       "           control        0.961016  \n",
       "easy       AN             0.937615  \n",
       "           IR             0.938143  \n",
       "           SD             0.937615  \n",
       "           control        0.938225  \n",
       "medium     AN             0.957578  \n",
       "           IR             0.954485  \n",
       "           SD             0.957578  \n",
       "           control        0.954530  "
      ]
     },
     "execution_count": 250,
     "metadata": {},
     "output_type": "execute_result"
    }
   ],
   "source": [
    "df.groupby(['difficulty','name']).mean()"
   ]
  },
  {
   "cell_type": "code",
   "execution_count": 246,
   "metadata": {},
   "outputs": [
    {
     "data": {
      "text/plain": [
       "Text(0, 0.5, 'Human Performance')"
      ]
     },
     "execution_count": 246,
     "metadata": {},
     "output_type": "execute_result"
    },
    {
     "data": {
      "image/png": "[encoded data removed]",
      "text/plain": [
       "<Figure size 288x288 with 1 Axes>"
      ]
     },
     "metadata": {
      "needs_background": "light"
     },
     "output_type": "display_data"
    }
   ],
   "source": [
    "plt.figure(figsize=[4,4])\n",
    "prc_data = df[df.name=='IR']\n",
    "Y = [] \n",
    "X = [] \n",
    "for i_task in ['easy', 'medium', 'difficult']: \n",
    "    \n",
    "    plt.scatter( y = prc_data[prc_data.difficulty==i_task]['correct'].mean(), \n",
    "                 x = 1-prc_data[prc_data.difficulty==i_task]['model_distance'].mean(), \n",
    "                label=i_task) \n",
    "    Y.append( prc_data[prc_data.difficulty==i_task]['correct'].mean() )\n",
    "    X.append( 1-prc_data[prc_data.difficulty==i_task]['model_distance'].mean() )\n",
    "    \n",
    "plt.legend(loc=4, title='Trial Type', framealpha=0 ) \n",
    "plt.xlabel('Model Distance \\n1 - r$_{typical, oddity}$')\n",
    "plt.ylabel('Human Performance')"
   ]
  },
  {
   "cell_type": "code",
   "execution_count": 244,
   "metadata": {},
   "outputs": [
    {
     "data": {
      "text/plain": [
       "<matplotlib.collections.PathCollection at 0xb701c0ad0>"
      ]
     },
     "execution_count": 244,
     "metadata": {},
     "output_type": "execute_result"
    },
    {
     "data": {
      "image/png": "[encoded data removed]",
      "text/plain": [
       "<Figure size 324x288 with 1 Axes>"
      ]
     },
     "metadata": {
      "needs_background": "light"
     },
     "output_type": "display_data"
    }
   ],
   "source": [
    "plt.figure(figsize=[4.5,4])\n",
    "plt.scatter(x= np.array(X).argsort()[-1::-1], \n",
    "            y= np.array(Y)[np.array(X).argsort()])"
   ]
  },
  {
   "cell_type": "code",
   "execution_count": 242,
   "metadata": {},
   "outputs": [],
   "source": [
    "df.to_csv('inhoff_nondiagnostic_data.csv')"
   ]
  },
  {
   "cell_type": "code",
   "execution_count": 113,
   "metadata": {},
   "outputs": [
    {
     "data": {
      "text/plain": [
       "(3030, 8)"
      ]
     },
     "execution_count": 113,
     "metadata": {},
     "output_type": "execute_result"
    }
   ],
   "source": [
    "#     plt.figure(figsize=[12, 4])\n",
    "#     i_reps = [] \n",
    "\n",
    "#     for i in [1,2,3]: \n",
    "#         plt.subplot(1,3,i)\n",
    "#         plt.title('%s\\n%s'%('image%s'%i, t['image%s'%i]) )\n",
    "#         plt.imshow(imgs[t['image%s'%i]])\n",
    "#         i_reps.append( model_responses[t['image%s'%i]] ) \n",
    "#         plt.axis('off')\n",
    "\n",
    "#     plt.suptitle('%s --- correct response: %s || %d-%d'%(t.difficulty, t.correct, iiii, i_nearest.argmin()), y=1.05)\n",
    "\n",
    "#     t['image%s'%i][-7:-4]\n",
    "#     plt.subplot(144)\n",
    "#     plt.imshow(np.corrcoef(i_reps))\n",
    "#     plt.title( (t.correct, \n",
    "#                 i_nearest.argmin(),\n",
    "#                 np.corrcoef( [model_responses[ t['image%s'%i]] for i in [1,2,3]] ).mean(0).argmin()))\n"
   ]
  },
  {
   "cell_type": "code",
   "execution_count": null,
   "metadata": {},
   "outputs": [],
   "source": []
  },
  {
   "cell_type": "code",
   "execution_count": null,
   "metadata": {},
   "outputs": [],
   "source": []
  },
  {
   "cell_type": "code",
   "execution_count": null,
   "metadata": {},
   "outputs": [],
   "source": []
  },
  {
   "cell_type": "code",
   "execution_count": null,
   "metadata": {},
   "outputs": [],
   "source": []
  },
  {
   "cell_type": "code",
   "execution_count": null,
   "metadata": {},
   "outputs": [],
   "source": [
    "# generate covariance\n",
    "i_covariance = np.corrcoef(i_response[np.array([0,1,condition]), :])\n",
    "# sort covariance matrix\n",
    "i_covariance.sort()\n",
    "# extract nearest neighbor\n",
    "i_nearest = i_covariance[:,-2]\n",
    "# determine if farthest is the oddity\n",
    "correct = i_nearest.argmin() == len(i_nearest)-1\n",
    "# store\n",
    "model_accuracy[markers[condition]].append(correct)"
   ]
  },
  {
   "cell_type": "code",
   "execution_count": null,
   "metadata": {},
   "outputs": [],
   "source": []
  },
  {
   "cell_type": "code",
   "execution_count": 237,
   "metadata": {},
   "outputs": [
    {
     "data": {
      "text/plain": [
       "[<matplotlib.lines.Line2D at 0x1380deb10>]"
      ]
     },
     "execution_count": 237,
     "metadata": {},
     "output_type": "execute_result"
    },
    {
     "data": {
      "image/png": "[encoded data removed]",
      "text/plain": [
       "<Figure size 432x288 with 1 Axes>"
      ]
     },
     "metadata": {
      "needs_background": "light"
     },
     "output_type": "display_data"
    }
   ],
   "source": [
    "\n",
    "plt.plot( np.mean(np.corrcoef(i_reps), 0) ) \n"
   ]
  },
  {
   "cell_type": "code",
   "execution_count": 206,
   "metadata": {},
   "outputs": [
    {
     "data": {
      "text/plain": [
       "array([0.98078958, 0.97508223, 0.98793434])"
      ]
     },
     "execution_count": 206,
     "metadata": {},
     "output_type": "execute_result"
    }
   ],
   "source": [
    "cov.mean(0)"
   ]
  },
  {
   "cell_type": "code",
   "execution_count": 57,
   "metadata": {},
   "outputs": [],
   "source": [
    "#              't.correct': t.correct, \n",
    "#              'RESP': t['Slide1.RESP'], \n",
    "#              'TextDisplay51.RESP': t['TextDisplay51.RESP'],\n",
    "#              'trial_number': t.Block, \n",
    "#              'run': run_number, \n",
    "#    run_number = int(i_file[2])"
   ]
  },
  {
   "cell_type": "code",
   "execution_count": 79,
   "metadata": {},
   "outputs": [
    {
     "data": {
      "text/plain": [
       "['edfam_m337-327_082.bmp', 'ed_f73-74_053.bmp', 'ed_m98-100_097.bmp']"
      ]
     },
     "execution_count": 79,
     "metadata": {},
     "output_type": "execute_result"
    }
   ],
   "source": [
    "[df.iloc[i]['image%d'%(i+1)] for i in range(3)] "
   ]
  },
  {
   "cell_type": "code",
   "execution_count": 82,
   "metadata": {},
   "outputs": [
    {
     "data": {
      "text/plain": [
       "True"
      ]
     },
     "execution_count": 82,
     "metadata": {},
     "output_type": "execute_result"
    }
   ],
   "source": [
    "'edfam_m337-327_082.bmp' in unique_images"
   ]
  },
  {
   "cell_type": "code",
   "execution_count": 83,
   "metadata": {},
   "outputs": [
    {
     "name": "stdout",
     "output_type": "stream",
     "text": [
      "[True, True, True]\n",
      "[True, True, True]\n",
      "[True, True, True]\n",
      "[True, True, True]\n",
      "[True, True, True]\n"
     ]
    }
   ],
   "source": [
    "for i in range(5):\n",
    "    \n",
    "    print( [df.iloc[i]['image%d'%(i+1)] in unique_images for i in range(3)] )"
   ]
  },
  {
   "cell_type": "code",
   "execution_count": null,
   "metadata": {},
   "outputs": [],
   "source": []
  },
  {
   "cell_type": "code",
   "execution_count": null,
   "metadata": {},
   "outputs": [],
   "source": []
  },
  {
   "cell_type": "code",
   "execution_count": 21,
   "metadata": {},
   "outputs": [
    {
     "name": "stdout",
     "output_type": "stream",
     "text": [
      "edfam_m337-327_082.BMP\n",
      "ed_f73-74_082.BMP\n",
      "ed_m98-100_030.BMP\n",
      "ded464-461_087.BMP\n"
     ]
    }
   ],
   "source": [
    "for i in list( each_image )[0:4]: \n",
    "    \n",
    "    i_response = session.run(model.conv5_1, feed_dict={model.imgs: imgs})"
   ]
  },
  {
   "cell_type": "code",
   "execution_count": null,
   "metadata": {},
   "outputs": [],
   "source": [
    "imgs = [imresize(imgs[i], (224, 224, 3)) for i in range(len(imgs))]\n",
    "i_response = session.run(model.conv5_1, feed_dict={model.imgs: imgs})"
   ]
  },
  {
   "cell_type": "code",
   "execution_count": 759,
   "metadata": {},
   "outputs": [
    {
     "data": {
      "text/plain": [
       "0.1716101694915254"
      ]
     },
     "execution_count": 759,
     "metadata": {},
     "output_type": "execute_result"
    }
   ],
   "source": [
    "\n",
    "# flatten model responses to trial images\n",
    "i_response = np.reshape(i_response, (len(imgs), -1))\n",
    "\n",
    "# determine model accuracy for 'near' and 'far' conditions\n",
    "for condition in [2, 3]:\n",
    "    # generate covariance\n",
    "    i_covariance = np.corrcoef(i_response[np.array([0,1,condition]), :])\n",
    "    # sort covariance matrix\n",
    "    i_covariance.sort()\n",
    "    # extract nearest neighbor\n",
    "    i_nearest = i_covariance[:,-2]\n",
    "    # determine if farthest is the oddity\n",
    "    correct = i_nearest.argmin() == len(i_nearest)-1\n",
    "    # store\n",
    "    model_accuracy[markers[condition]].append(correct)"
   ]
  },
  {
   "cell_type": "code",
   "execution_count": null,
   "metadata": {},
   "outputs": [],
   "source": [
    "\n",
    "\n",
    "from PIL import Image\n",
    "from scipy.misc import imresize\n",
    "import tensorflow.compat.v1 as tf\n",
    "tf.disable_v2_behavior()\n",
    "from PIL import Image\n",
    "\n",
    "def load_model(path_to_model):\n",
    "    \"\"\"return model and session\"\"\"\n",
    "    session = tf.Session()\n",
    "    vgg16 = imp.load_source('vgg16', os.path.join(path_to_model, 'vgg16.py'))\n",
    "    imgs = tf.placeholder(tf.float32, [None, 224, 224, 3])\n",
    "    vgg = vgg16.vgg16(imgs, os.path.join(path_to_model, 'vgg16_weights.npz'), session)\n",
    "    return vgg, session\n",
    "\n",
    "def model_performance(model, session, image_path):\n",
    "    \"\"\"returns model performance on experiment\"\"\"\n",
    "    \n",
    "    # all images in stimulus directory\n",
    "    images = np.sort( [i for i in os.listdir(image_path) if 'BMP' in i] )\n",
    "    # all unique trials\n",
    "    trial_names = np.unique([i[0:-8] for i in images])\n",
    "    # trial/condition markers\n",
    "    markers = ['030', '053', '082', '097']\n",
    "    # initialize data types\n",
    "    model_accuracy = {'082':[], '097':[], 'name':trial_names, 'markers':markers}\n",
    "\n",
    "    for i_trial in trial_names:\n",
    "\n",
    "        # all images in trial\n",
    "        i_files = [i for i in images if i_trial in i and i[-7:-4] in markers]\n",
    "\n",
    "        # only\n",
    "        if len(i_files) == len( markers ):\n",
    "\n",
    "            for i_face in range(len(i_files)):\n",
    "                imgs = np.array([np.array(Image.open(os.path.join(image_path, i))) for i in i_files])\n",
    "                imgs = [imresize(imgs[i], (224, 224, 3)) for i in range(len(imgs))]\n",
    "                i_response = session.run(model.conv5_1, feed_dict={model.imgs: imgs})\n",
    "\n",
    "            # flatten model responses to trial images\n",
    "            i_response = np.reshape(i_response, (len(imgs), -1))\n",
    "\n",
    "            # determine model accuracy for 'near' and 'far' conditions\n",
    "            for condition in [2, 3]:\n",
    "                # generate covariance\n",
    "                i_covariance = np.corrcoef(i_response[np.array([0,1,condition]), :])\n",
    "                # sort covariance matrix\n",
    "                i_covariance.sort()\n",
    "                # extract nearest neighbor\n",
    "                i_nearest = i_covariance[:,-2]\n",
    "                # determine if farthest is the oddity\n",
    "                correct = i_nearest.argmin() == len(i_nearest)-1\n",
    "                # store\n",
    "                model_accuracy[markers[condition]].append(correct)\n",
    "    \n",
    "    # determine average accuracy\n",
    "    model_performance = {i: np.mean(model_accuracy[i]) for i in [ '082', '097']}\n",
    "    # save\n",
    "    pandas.DataFrame({'accuracy' : list(model_performance.values()), \n",
    "                      'condition': list(model_performance)}).to_csv('model_performance.csv') \n",
    "    \n",
    "    return model_performance\n"
   ]
  },
  {
   "cell_type": "code",
   "execution_count": null,
   "metadata": {},
   "outputs": [],
   "source": []
  },
  {
   "cell_type": "code",
   "execution_count": null,
   "metadata": {},
   "outputs": [],
   "source": []
  },
  {
   "cell_type": "code",
   "execution_count": null,
   "metadata": {},
   "outputs": [],
   "source": []
  },
  {
   "cell_type": "code",
   "execution_count": null,
   "metadata": {},
   "outputs": [],
   "source": []
  }
 ],
 "metadata": {
  "kernelspec": {
   "display_name": "Python [conda env:tf]",
   "language": "python",
   "name": "conda-env-tf-py"
  },
  "language_info": {
   "codemirror_mode": {
    "name": "ipython",
    "version": 3
   },
   "file_extension": ".py",
   "mimetype": "text/x-python",
   "name": "python",
   "nbconvert_exporter": "python",
   "pygments_lexer": "ipython3",
   "version": "3.7.5"
  }
 },
 "nbformat": 4,
 "nbformat_minor": 2
}
